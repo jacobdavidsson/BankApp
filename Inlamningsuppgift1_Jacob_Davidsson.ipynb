{
 "cells": [
  {
   "cell_type": "code",
   "execution_count": 447,
   "id": "589f2e79",
   "metadata": {},
   "outputs": [],
   "source": [
    "class Account:\n",
    "    def __init__ (self, account_number, balance):\n",
    "        self.account_number = account_number\n",
    "        self.balance = balance\n",
    "    \n",
    "    def get_balance(self):\n",
    "        print(self.balance)\n",
    "\n",
    "    def add_funds(self, funds):\n",
    "        if type(funds) == int:\n",
    "            self.balance += funds"
   ]
  },
  {
   "cell_type": "code",
   "execution_count": 448,
   "id": "0d72d7f0",
   "metadata": {},
   "outputs": [],
   "source": [
    "class Customer:\n",
    "    def __init__ (self, username, password):\n",
    "        self.username = username\n",
    "        self.password = password\n",
    "        self.account_list = []\n",
    "\n",
    "    def password_check(self, pass_check):\n",
    "        if pass_check == self.password:\n",
    "            print(\"correct pw\")\n",
    "        else:\n",
    "            print(\"invalid pw\")\n",
    "    \n",
    "    def add_account(self, account):\n",
    "        self.account_list.append(account)"
   ]
  },
  {
   "cell_type": "code",
   "execution_count": 465,
   "id": "ab9d9bec",
   "metadata": {},
   "outputs": [],
   "source": [
    "class Bank:\n",
    "    def __init__ (self):\n",
    "        self.customers = []\n",
    "        self.current_customer = None\n",
    "        \n",
    "    def does_not_exist(self):\n",
    "        if self.does_exist == False:\n",
    "            print(\"invalid input\")\n",
    "\n",
    "    def add_customer(self, customer):\n",
    "        self.customers.append(customer)\n",
    "\n",
    "    def login(self, username, password):\n",
    "        customer_exists = False\n",
    "        for customer in self.customers:\n",
    "            if customer.username == username and customer.password == password:\n",
    "                self.does_exist = True\n",
    "                self.current_customer = customer\n",
    "                print(\"logged in\")\n",
    "        if customer_exists == False:\n",
    "            print(\"wrong login details\")\n",
    "    \n",
    "    def logout(self):\n",
    "        self.current_customer = None\n",
    "    \n",
    "    def print_current_customer(self):\n",
    "        if self.current_customer != None:\n",
    "            print(f\"logged in user is {self.current_customer.username} with password {self.current_customer.password}\")\n",
    "        else:\n",
    "            print(\"no current customer\")\n",
    "\n",
    "    def get_customers(self):\n",
    "        for customer in self.customers:\n",
    "            print(f\"{customer.username}\")\n",
    "\n",
    "    def get_customer_by_name(self, name):\n",
    "        customer_exists = False\n",
    "        for customer in self.customers:\n",
    "            if customer.username == name:\n",
    "                customer_exists = True\n",
    "                print(name)\n",
    "                return customer\n",
    "        if customer_exists == False:\n",
    "            print(\"No customer found\")\n",
    "\n",
    "    def add_account(self, account):\n",
    "        customer = self.current_customer\n",
    "        customer.add_account(account)\n",
    "\n",
    "    def change_customer_password(self, name, new_password):\n",
    "        customer_found = False\n",
    "        for customer in self.customers:\n",
    "            if customer.username == name:\n",
    "                customer.password = new_password\n",
    "                customer_found = True\n",
    "                print(f\"changed password to {new_password} on user {name}\")\n",
    "        if customer_found == False:\n",
    "            print(\"No customer found\")\n",
    "\n",
    "    def remove_customer(self, name):\n",
    "        customer_found = False\n",
    "        for customer in self.customers:\n",
    "            if customer.username == name:\n",
    "                customer_found = True\n",
    "                self.customers.remove(customer)\n",
    "                print(f\"removed customer {name}\")\n",
    "        if customer_found == False:\n",
    "            print(\"No customer found\")\n",
    "\n",
    "    def get_accounts(self):\n",
    "        for account in self.current_customer.account_list:\n",
    "            print(f\"account number: {account.account_number}, balance: {account.balance}\")\n",
    "    \n",
    "    def remove_account(self, account_number):\n",
    "        account_exists = False\n",
    "        for account in self.current_customer.account_list:\n",
    "            if account.account_number == account_number:\n",
    "                account_exists = True\n",
    "                self.current_customer.account_list.remove(account)\n",
    "                print(f\"removed account {account.account_number}\")\n",
    "        if account_exists == False:\n",
    "            print(\"account does not exist\")\n",
    "\n",
    "    def get_account(self, account_number):\n",
    "        account_exists = False\n",
    "        for account in self.current_customer.account_list:\n",
    "            if account.account_number == account_number:\n",
    "                account_exists = True\n",
    "                print(f\"account number: {account.account_number}, balance: {account.balance}\")\n",
    "                return account\n",
    "        if account_exists == False:\n",
    "            print(\"account does not exist\")\n",
    "                \n",
    "    def deposit(self, account_number, amount):\n",
    "        account_exists = False    \n",
    "        for account in self.current_customer.account_list:\n",
    "            if account.account_number == account_number:\n",
    "                print(f\"balance: {account.balance}\")\n",
    "                account.balance += amount\n",
    "                print(f\"new balance: {account.balance}\")\n",
    "                account_exists = True\n",
    "        if account_exists == False:\n",
    "            print(\"account does not exist\")\n",
    "                \n",
    "    def withdraw(self, account_number, amount):\n",
    "        account_exists = False       \n",
    "        for account in self.current_customer.account_list:\n",
    "            if account.account_number == account_number:\n",
    "                print(f\"balance: {account.balance}\")\n",
    "                account.balance -= amount\n",
    "                print(f\"new balance: {account.balance}\")\n",
    "                account_exists = True\n",
    "        if account_exists == False:\n",
    "            print(\"account does not exist\")"
   ]
  },
  {
   "cell_type": "code",
   "execution_count": 466,
   "id": "26aa685c",
   "metadata": {},
   "outputs": [],
   "source": [
    "bank = Bank()\n",
    "bank.add_customer(Customer(\"Jacob\", \"Jacob123\"))\n",
    "bank.add_customer(Customer(\"Jonas\", \"Jonas123\"))\n",
    "bank.add_customer(Customer(\"Belle\", \"Belle123\"))"
   ]
  },
  {
   "cell_type": "code",
   "execution_count": 467,
   "id": "ac819d9a",
   "metadata": {},
   "outputs": [
    {
     "name": "stdout",
     "output_type": "stream",
     "text": [
      "No customer found\n",
      "changed password to Belle1234 on user Belle\n",
      "changed password to Jacob1234 on user Jacob\n"
     ]
    }
   ],
   "source": [
    "bank.change_customer_password(\"Jacobe\", \"Jacob1234\")\n",
    "bank.change_customer_password(\"Belle\", \"Belle1234\")\n",
    "bank.change_customer_password(\"Jacob\", \"Jacob1234\")"
   ]
  },
  {
   "cell_type": "code",
   "execution_count": 468,
   "id": "b69ad869",
   "metadata": {},
   "outputs": [
    {
     "name": "stdout",
     "output_type": "stream",
     "text": [
      "Belle\n",
      "invalid pw\n",
      "correct pw\n",
      "No customer found\n"
     ]
    }
   ],
   "source": [
    "customer = bank.get_customer_by_name(\"Belle\")\n",
    "customer.password_check(\"Belle123\")\n",
    "customer.password_check(\"Belle1234\")\n",
    "bank.get_customer_by_name(\"Test\")"
   ]
  },
  {
   "cell_type": "code",
   "execution_count": 453,
   "id": "11349fe8",
   "metadata": {},
   "outputs": [
    {
     "name": "stdout",
     "output_type": "stream",
     "text": [
      "wrong login details\n",
      "logged in\n",
      "wrong login details\n"
     ]
    }
   ],
   "source": [
    "bank.login(\"Jacob\", \"fel\")\n",
    "bank.login(\"Jacob\", \"Jacob1234\")"
   ]
  },
  {
   "cell_type": "code",
   "execution_count": 454,
   "id": "8865ff20",
   "metadata": {},
   "outputs": [
    {
     "name": "stdout",
     "output_type": "stream",
     "text": [
      "logged in user is Jacob with password Jacob1234\n",
      "no current customer\n"
     ]
    }
   ],
   "source": [
    "bank.print_current_customer()\n",
    "bank.logout()\n",
    "bank.print_current_customer()"
   ]
  },
  {
   "cell_type": "code",
   "execution_count": 455,
   "id": "9e82b7bf",
   "metadata": {},
   "outputs": [
    {
     "name": "stdout",
     "output_type": "stream",
     "text": [
      "Jacob\n",
      "Jonas\n",
      "Belle\n",
      "removed customer Jonas\n",
      "Jacob\n",
      "Belle\n"
     ]
    }
   ],
   "source": [
    "bank.get_customers()\n",
    "bank.remove_customer(\"Jonas\")\n",
    "bank.get_customers()"
   ]
  },
  {
   "cell_type": "code",
   "execution_count": 456,
   "id": "005554fe",
   "metadata": {},
   "outputs": [
    {
     "name": "stdout",
     "output_type": "stream",
     "text": [
      "logged in\n",
      "wrong login details\n"
     ]
    }
   ],
   "source": [
    "bank.login(\"Belle\", \"Belle1234\")"
   ]
  },
  {
   "cell_type": "code",
   "execution_count": 457,
   "id": "fe3a934f",
   "metadata": {},
   "outputs": [],
   "source": [
    "bank.add_account(Account(\"45895\", 500))\n",
    "bank.add_account(Account(\"12356\", 1000))\n",
    "bank.add_account(Account(\"55555\", 5000))"
   ]
  },
  {
   "cell_type": "code",
   "execution_count": 458,
   "id": "ef809f4b",
   "metadata": {},
   "outputs": [
    {
     "name": "stdout",
     "output_type": "stream",
     "text": [
      "account number: 45895, balance: 500\n",
      "account number: 12356, balance: 1000\n",
      "account number: 55555, balance: 5000\n"
     ]
    }
   ],
   "source": [
    "bank.get_accounts()"
   ]
  },
  {
   "cell_type": "code",
   "execution_count": 459,
   "id": "94a03f45",
   "metadata": {},
   "outputs": [
    {
     "name": "stdout",
     "output_type": "stream",
     "text": [
      "removed account 12356\n"
     ]
    }
   ],
   "source": [
    "bank.remove_account(\"12356\")"
   ]
  },
  {
   "cell_type": "code",
   "execution_count": 460,
   "id": "86d1ae10",
   "metadata": {},
   "outputs": [
    {
     "name": "stdout",
     "output_type": "stream",
     "text": [
      "account number: 45895, balance: 500\n",
      "account number: 55555, balance: 5000\n"
     ]
    }
   ],
   "source": [
    "bank.get_accounts()"
   ]
  },
  {
   "cell_type": "code",
   "execution_count": 461,
   "id": "ff1410a3",
   "metadata": {},
   "outputs": [
    {
     "name": "stdout",
     "output_type": "stream",
     "text": [
      "account number: 55555, balance: 5000\n",
      "account does not exist\n"
     ]
    }
   ],
   "source": [
    "bank.get_account(\"55555\")\n",
    "bank.get_account(\"55554\")"
   ]
  },
  {
   "cell_type": "code",
   "execution_count": 462,
   "id": "376c6b5f",
   "metadata": {},
   "outputs": [
    {
     "name": "stdout",
     "output_type": "stream",
     "text": [
      "balance: 5000\n",
      "new balance: 5500\n",
      "account does not exist\n"
     ]
    }
   ],
   "source": [
    "bank.deposit(\"55555\", 500)\n",
    "bank.deposit(\"55554\", 500)"
   ]
  },
  {
   "cell_type": "code",
   "execution_count": 463,
   "id": "1fba60ac",
   "metadata": {},
   "outputs": [
    {
     "name": "stdout",
     "output_type": "stream",
     "text": [
      "account number: 55555, balance: 5500\n"
     ]
    },
    {
     "data": {
      "text/plain": [
       "<__main__.Account at 0x246c8fc25e0>"
      ]
     },
     "execution_count": 463,
     "metadata": {},
     "output_type": "execute_result"
    }
   ],
   "source": [
    "bank.get_account(\"55555\")"
   ]
  },
  {
   "cell_type": "code",
   "execution_count": 464,
   "id": "ac18c6e5",
   "metadata": {},
   "outputs": [
    {
     "name": "stdout",
     "output_type": "stream",
     "text": [
      "balance: 5500\n",
      "new balance: 500\n",
      "account does not exist\n",
      "account number: 55555, balance: 500\n",
      "500\n",
      "1000\n"
     ]
    }
   ],
   "source": [
    "bank.withdraw(\"55555\", 5000)\n",
    "bank.withdraw(\"55554\", 5000)\n",
    "account = bank.get_account(\"55555\")\n",
    "account.get_balance()\n",
    "account.add_funds(500)\n",
    "account.get_balance()"
   ]
  },
  {
   "cell_type": "code",
   "execution_count": null,
   "id": "ec3f8c3f",
   "metadata": {},
   "outputs": [],
   "source": []
  }
 ],
 "metadata": {
  "kernelspec": {
   "display_name": "Python 3 (ipykernel)",
   "language": "python",
   "name": "python3"
  },
  "language_info": {
   "codemirror_mode": {
    "name": "ipython",
    "version": 3
   },
   "file_extension": ".py",
   "mimetype": "text/x-python",
   "name": "python",
   "nbconvert_exporter": "python",
   "pygments_lexer": "ipython3",
   "version": "3.9.13"
  }
 },
 "nbformat": 4,
 "nbformat_minor": 5
}
